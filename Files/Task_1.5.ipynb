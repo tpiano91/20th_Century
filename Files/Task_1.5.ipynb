{
 "cells": [
  {
   "cell_type": "markdown",
   "id": "bb04337f-1bea-49c2-81cd-d077783ad58b",
   "metadata": {},
   "source": [
    "# Task 1.5 - Text Mining"
   ]
  },
  {
   "cell_type": "markdown",
   "id": "1880ba88-a4cf-4c7d-862b-1347168be499",
   "metadata": {},
   "source": [
    "## Importing Data and Libraries"
   ]
  },
  {
   "cell_type": "code",
   "execution_count": null,
   "id": "0f7f6921-591b-4945-b168-79d999fb582b",
   "metadata": {
    "tags": []
   },
   "outputs": [],
   "source": [
    "#Import Libraries\n",
    "\n",
    "from textblob import TextBlob\n",
    "import pandas as pd\n",
    "import seaborn as sns\n",
    "import matplotlib.pyplot as plt\n",
    "import matplotlib\n",
    "matplotlib.use('Agg')  # Use a non-interactive backend\n",
    "import nltk\n",
    "import nltk\n",
    "import re\n",
    "nltk.download('stopwords')\n",
    "nltk.download('punkt')\n",
    "nltk.download('averaged_perceptron_tagger')\n",
    "from collections import Counter\n",
    "sns.set()"
   ]
  },
  {
   "cell_type": "code",
   "execution_count": null,
   "id": "f740f946-cfe8-4406-97cb-c660a67923cf",
   "metadata": {
    "tags": []
   },
   "outputs": [],
   "source": [
    "# Import txt file\n",
    "\n",
    "with open('20th_Century_Scrape.txt', 'r', errors='ignore') as file: \n",
    "   data = file.read().replace( '\\n', ' ')"
   ]
  },
  {
   "cell_type": "markdown",
   "id": "080cbe1b-4628-437e-a3cc-d8ca8defadbf",
   "metadata": {},
   "source": [
    "## Tokenization"
   ]
  },
  {
   "cell_type": "code",
   "execution_count": null,
   "id": "b1d1c508-0fef-46ab-8cbc-a662ecc07739",
   "metadata": {
    "scrolled": true,
    "tags": []
   },
   "outputs": [],
   "source": [
    "# Sentence tokenization\n",
    "\n",
    "from nltk.tokenize import sent_tokenize\n",
    "tokenized_sent = sent_tokenize(data)\n",
    "print(tokenized_sent) "
   ]
  },
  {
   "cell_type": "code",
   "execution_count": null,
   "id": "c42f675f-460c-40de-a2df-e4b791b9ba5c",
   "metadata": {
    "tags": []
   },
   "outputs": [],
   "source": [
    "# Word tokenization\n",
    "\n",
    "from nltk.tokenize import word_tokenize\n",
    "tokenized_word = word_tokenize(data)\n",
    "print(tokenized_word) "
   ]
  },
  {
   "cell_type": "code",
   "execution_count": null,
   "id": "378587b1-bb88-4e03-bf80-fa8229671c75",
   "metadata": {
    "tags": []
   },
   "outputs": [],
   "source": [
    "# Checking frequency distribution\n",
    "\n",
    "from nltk.probability import FreqDist\n",
    "dist_words = FreqDist(tokenized_word)\n",
    "print(dist_words) "
   ]
  },
  {
   "cell_type": "code",
   "execution_count": null,
   "id": "e580e304-143b-4e8c-9f6b-379e9ef9b8e0",
   "metadata": {
    "tags": []
   },
   "outputs": [],
   "source": [
    "# Finding 10 most common words\n",
    "\n",
    "dist_words.most_common(10)"
   ]
  },
  {
   "cell_type": "code",
   "execution_count": null,
   "id": "01850f38-30dd-4565-8bde-c3f1d6b10521",
   "metadata": {
    "tags": []
   },
   "outputs": [],
   "source": [
    "# Frequency Distribution Plot\n",
    "\n",
    "plt.figure(figsize=(8, 3))\n",
    "dist_words.plot(10,cumulative = False)\n",
    "plt.show()"
   ]
  },
  {
   "cell_type": "markdown",
   "id": "a03f7c00-6ce4-4898-a329-b448bd70f161",
   "metadata": {},
   "source": [
    "## Remove Stop Words"
   ]
  },
  {
   "cell_type": "code",
   "execution_count": null,
   "id": "5dc593e0-7a01-4719-8ffd-447069d7256f",
   "metadata": {
    "tags": []
   },
   "outputs": [],
   "source": [
    "# Defining stopwords\n",
    "\n",
    "from nltk.corpus import stopwords\n",
    "stop_words = set(stopwords.words(\"english\"))\n",
    "print(stop_words)"
   ]
  },
  {
   "cell_type": "code",
   "execution_count": null,
   "id": "10fb3f45-fc4f-403b-839f-4c2ce16072bd",
   "metadata": {
    "tags": []
   },
   "outputs": [],
   "source": [
    "# Removing stopwords in words\n",
    "\n",
    "filtered_words = [] # creates an empty list\n",
    "for word in tokenized_word:\n",
    "    if word not in stop_words:\n",
    "        filtered_words.append(word)"
   ]
  },
  {
   "cell_type": "code",
   "execution_count": null,
   "id": "1c3fd7d3-d41b-41b1-9e35-cdccdb46f1de",
   "metadata": {
    "tags": []
   },
   "outputs": [],
   "source": [
    "filtered_words"
   ]
  },
  {
   "cell_type": "code",
   "execution_count": null,
   "id": "707a8f42-44aa-40ca-81c5-c83ac245ac24",
   "metadata": {
    "tags": []
   },
   "outputs": [],
   "source": [
    "# Create a new FreqDist for filtered_words\n",
    "\n",
    "dist_words_filter = FreqDist(filtered_words)\n",
    "print(dist_words_filter)"
   ]
  },
  {
   "cell_type": "code",
   "execution_count": null,
   "id": "fd97d5a4-afe0-409c-b870-64714cc1f655",
   "metadata": {
    "tags": []
   },
   "outputs": [],
   "source": [
    "# Frequency Distribution Plot\n",
    "\n",
    "plt.figure(figsize=(8, 3))\n",
    "dist_words_filter.plot(10, cumulative = False)\n",
    "plt.show()"
   ]
  },
  {
   "cell_type": "code",
   "execution_count": null,
   "id": "38f9f807-6ffb-42ff-82b0-7f696fc98887",
   "metadata": {
    "tags": []
   },
   "outputs": [],
   "source": [
    "dist_words_filter"
   ]
  },
  {
   "cell_type": "code",
   "execution_count": null,
   "id": "f39c48c5-6570-4622-b398-9b1550d2109a",
   "metadata": {
    "tags": []
   },
   "outputs": [],
   "source": [
    "# Substitute all punctuations marks with a space \n",
    "\n",
    "sans_punc = re.sub(\"[^a-zA-Z]\",  # Search for all non-letters\n",
    "                          \" \",          # Replace all non-letters with spaces\n",
    "                          str(filtered_words))"
   ]
  },
  {
   "cell_type": "code",
   "execution_count": null,
   "id": "354d1cc7-2057-40bc-bca4-97bd703bcd5c",
   "metadata": {
    "scrolled": true,
    "tags": []
   },
   "outputs": [],
   "source": [
    "# Word tokenization\n",
    "\n",
    "tokenized_word_2 = word_tokenize(sans_punc)\n",
    "print(tokenized_word_2)"
   ]
  },
  {
   "cell_type": "code",
   "execution_count": null,
   "id": "a5aaadfa-7dd8-4a45-8a36-ae01d062ef4d",
   "metadata": {
    "tags": []
   },
   "outputs": [],
   "source": [
    "# Create a new FreqDist\n",
    "\n",
    "dist_words_filter_2 = FreqDist(tokenized_word_2)"
   ]
  },
  {
   "cell_type": "code",
   "execution_count": null,
   "id": "c43405e3-6cd1-42d1-8161-8b5737cedf6a",
   "metadata": {
    "tags": []
   },
   "outputs": [],
   "source": [
    "# Frequency Distribution Plot\n",
    "\n",
    "plt.figure(figsize=(8, 3))\n",
    "dist_words_filter_2.plot(30, cumulative = False)\n",
    "plt.show()"
   ]
  },
  {
   "cell_type": "markdown",
   "id": "e5bb18ae-4d12-488f-83c8-413f33717826",
   "metadata": {},
   "source": [
    "## Before and after removing stopwords/punctuation\n",
    "##### The results of the text mining are far more useful and telling after removing stopwords and punctuation. More discernible words, such as proper pronouns and names of countries that were notorious for their involvement in various wars, now appear"
   ]
  },
  {
   "cell_type": "markdown",
   "id": "019575cd-329f-4aff-8966-49dce52a2de7",
   "metadata": {},
   "source": [
    "## POS Tags list with textblob"
   ]
  },
  {
   "cell_type": "code",
   "execution_count": null,
   "id": "dc08c0a1-bd94-4ff5-85bf-a7bafedf248a",
   "metadata": {
    "tags": []
   },
   "outputs": [],
   "source": [
    "new_stopwords = [\"And\", \"Then\", 'n', 't', 's', 'The']"
   ]
  },
  {
   "cell_type": "code",
   "execution_count": null,
   "id": "daedb925-bfc0-4eff-84de-59833fbb622a",
   "metadata": {
    "tags": []
   },
   "outputs": [],
   "source": [
    "filtered = []\n",
    "for word in tokenized_word_2:\n",
    "    if word not in new_stopwords:\n",
    "        filtered.append(word)"
   ]
  },
  {
   "cell_type": "code",
   "execution_count": null,
   "id": "657885c4-6a1c-4425-a803-10e6c5055438",
   "metadata": {
    "tags": []
   },
   "outputs": [],
   "source": [
    "%%time\n",
    "text = TextBlob(str(filtered))"
   ]
  },
  {
   "cell_type": "code",
   "execution_count": null,
   "id": "6cf22c09-d3fb-42e6-bc7a-b515c1e44dd2",
   "metadata": {
    "tags": []
   },
   "outputs": [],
   "source": [
    "text"
   ]
  },
  {
   "cell_type": "code",
   "execution_count": null,
   "id": "f5f0e156-90bb-4aeb-b03d-32b0d4a88a7e",
   "metadata": {
    "tags": []
   },
   "outputs": [],
   "source": [
    "tags_list = text.tags"
   ]
  },
  {
   "cell_type": "code",
   "execution_count": null,
   "id": "7ab6016c-d0f0-495d-85f5-b1464981a1e7",
   "metadata": {
    "tags": []
   },
   "outputs": [],
   "source": [
    "tags_list"
   ]
  },
  {
   "cell_type": "code",
   "execution_count": null,
   "id": "e4656395-ba7a-4dda-a3af-2465d11c2397",
   "metadata": {
    "tags": []
   },
   "outputs": [],
   "source": [
    "df_text = pd.DataFrame(tags_list)\n",
    "df_text.columns = ['Words', \"Word type\"]"
   ]
  },
  {
   "cell_type": "code",
   "execution_count": null,
   "id": "99f4dcea-6522-48b4-a265-2f443e12dd31",
   "metadata": {
    "tags": []
   },
   "outputs": [],
   "source": [
    "df_text.head()"
   ]
  },
  {
   "cell_type": "code",
   "execution_count": null,
   "id": "ca82e671-36cb-4910-90b9-b64bfb5e1f9f",
   "metadata": {
    "tags": []
   },
   "outputs": [],
   "source": [
    "df_t = df_text.groupby('Word type').count().reset_index()"
   ]
  },
  {
   "cell_type": "code",
   "execution_count": null,
   "id": "0e8c0462-bdf2-4aa5-9a59-e14b160ad280",
   "metadata": {
    "tags": []
   },
   "outputs": [],
   "source": [
    "df_t.head()"
   ]
  },
  {
   "cell_type": "code",
   "execution_count": null,
   "id": "4ce2a9de-d2e2-4991-963d-65eacab9e0c1",
   "metadata": {
    "tags": []
   },
   "outputs": [],
   "source": [
    "top20 = df_t.nlargest(20, 'Words')"
   ]
  },
  {
   "cell_type": "code",
   "execution_count": null,
   "id": "022d696c-4fb7-4ea9-9e44-e1741ec99f5b",
   "metadata": {
    "tags": []
   },
   "outputs": [],
   "source": [
    "plt.figure(figsize = (10, 5))\n",
    "with sns.dark_palette(\"xkcd:blue\", 20):\n",
    "    sns.barplot(x = \"Words\", y = \"Word type\",\n",
    "    saturation = 0.9, data = top20).set_title(\"20th Century - top 20 word types used\")"
   ]
  },
  {
   "cell_type": "markdown",
   "id": "440d725a-2764-4e48-89ba-b5448e7a3f64",
   "metadata": {},
   "source": [
    "## Three bar plots for nouns, verbs and adjectives"
   ]
  },
  {
   "cell_type": "code",
   "execution_count": null,
   "id": "2a19ba25-3ea6-489f-abee-8ac9b83a3899",
   "metadata": {
    "tags": []
   },
   "outputs": [],
   "source": [
    "def word_analysis(word_type):\n",
    "    filtered = [row for row in my_list if str(word_type) in row[1]]\n",
    "    print(\"filtered for \" + word_type)\n",
    "    df = pd.DataFrame(filtered)\n",
    "    df.columns = [\"Word\", \"Occurences\"]\n",
    "    x=df.groupby('Word').count().reset_index()\n",
    "    y=x.sort_values(by=['Occurences'], ascending=False)\n",
    "    top10=y.nlargest(10, 'Occurences')\n",
    "    plt.figure(figsize=(10, 5))\n",
    "    sns.barplot(x=\"Word\", y=\"Occurences\", palette=\"rocket\", saturation=0.9, data=top10).set_title(\"Lord of the rings - most frequently used \"+ word_type +\" type word\")"
   ]
  },
  {
   "cell_type": "markdown",
   "id": "7420210f-bc02-4881-b36f-a34a70cfd9a5",
   "metadata": {},
   "source": [
    "### Nouns"
   ]
  },
  {
   "cell_type": "code",
   "execution_count": null,
   "id": "9f942bc4-8fa4-4029-b297-c91c2410fd66",
   "metadata": {
    "tags": []
   },
   "outputs": [],
   "source": [
    "df = df_text[(df_text['Word type'] == \"NN\") | (df_text['Word type'] == \"NNS\") | (df_text['Word type'] == \"NNP\")]\n",
    "df.columns = [\"Word\", \"Occurences\"]\n",
    "x = df.groupby('Word').count().reset_index()\n",
    "y = x.sort_values(by = ['Occurences'], ascending=False)\n",
    "top10_n = y.nlargest(10, 'Occurences')"
   ]
  },
  {
   "cell_type": "code",
   "execution_count": null,
   "id": "3666223a-70de-49bd-a608-cfa2327c042b",
   "metadata": {
    "tags": []
   },
   "outputs": [],
   "source": [
    "top10_n"
   ]
  },
  {
   "cell_type": "code",
   "execution_count": null,
   "id": "db76c815-5966-43e5-b7b2-d6e7040eccee",
   "metadata": {
    "tags": []
   },
   "outputs": [],
   "source": [
    "plt.figure(figsize=(10, 5))\n",
    "with sns.dark_palette(\"xkcd:blue\", 10):\n",
    "    sns.barplot(x=\"Word\", y=\"Occurences\",\n",
    "    saturation=0.9, data = top10_n).set_title(\"20th Century - most frequently used nouns\")"
   ]
  },
  {
   "cell_type": "code",
   "execution_count": null,
   "id": "e299f20b-d147-4266-9b49-ac160ae5ef0f",
   "metadata": {},
   "outputs": [],
   "source": [
    "# Save the figure top_nouns\n",
    "plt.savefig('top_nouns.png', bbox_inches='tight')"
   ]
  },
  {
   "cell_type": "markdown",
   "id": "4ad17ee6-54fd-44ad-82f6-cab5cc55e971",
   "metadata": {},
   "source": [
    "### Verbs"
   ]
  },
  {
   "cell_type": "code",
   "execution_count": null,
   "id": "5c695d42-7968-4c8f-bf76-1c499aa844dc",
   "metadata": {
    "tags": []
   },
   "outputs": [],
   "source": [
    "df_v = df_text[(df_text['Word type'] == \"VB\")  | (df_text['Word type'] == \"VBD\")]\n",
    "df_v.columns = [\"Word\", \"Occurences\"]\n",
    "x = df_v.groupby('Word').count().reset_index()\n",
    "y = x.sort_values(by = ['Occurences'], ascending=False)\n",
    "top10_v = y.nlargest(10, 'Occurences')"
   ]
  },
  {
   "cell_type": "code",
   "execution_count": null,
   "id": "3c2e5ac9-6165-417d-8763-6a5e3403dc95",
   "metadata": {
    "tags": []
   },
   "outputs": [],
   "source": [
    "top10_v"
   ]
  },
  {
   "cell_type": "code",
   "execution_count": null,
   "id": "af39e9b9-3872-4b54-ab6b-5ad357183614",
   "metadata": {
    "tags": []
   },
   "outputs": [],
   "source": [
    "plt.figure(figsize = (10, 5))\n",
    "with sns.dark_palette(\"xkcd:blue\", 10):\n",
    "    sns.barplot(x = \"Word\", y = \"Occurences\",\n",
    "    saturation = 0.9, data = top10_v).set_title(\"20th Century - most frequently used verbs\")"
   ]
  },
  {
   "cell_type": "code",
   "execution_count": null,
   "id": "95fe5a6e-f79a-461b-9f9d-bea4dc891c6f",
   "metadata": {},
   "outputs": [],
   "source": [
    "# Save the figure top_verbs\n",
    "plt.savefig('top_verbs.png', bbox_inches='tight')"
   ]
  },
  {
   "cell_type": "markdown",
   "id": "941ec112-c4db-4b2a-91f5-1732da4e8447",
   "metadata": {},
   "source": [
    "### Adjectives"
   ]
  },
  {
   "cell_type": "code",
   "execution_count": null,
   "id": "08833455-786f-40b1-9e6d-a792d3f5ce08",
   "metadata": {
    "tags": []
   },
   "outputs": [],
   "source": [
    "df_a = df_text[df_text['Word type'] == \"JJ\"]\n",
    "df_a.columns = [\"Word\", \"Occurences\"]\n",
    "x = df_a.groupby('Word').count().reset_index()\n",
    "y = x.sort_values(by=['Occurences'], ascending=False)\n",
    "top10_a = y.nlargest(10, 'Occurences')"
   ]
  },
  {
   "cell_type": "code",
   "execution_count": null,
   "id": "c17f386f-202f-4e37-a9d9-9020b3901846",
   "metadata": {
    "tags": []
   },
   "outputs": [],
   "source": [
    "plt.figure(figsize=(10, 5))\n",
    "with sns.dark_palette(\"xkcd:blue\", 10):\n",
    "    sns.barplot(x=\"Word\", y=\"Occurences\",\n",
    "    saturation=0.9, data=top10_a).set_title(\"20th Century - most frequently used adjectives\")"
   ]
  },
  {
   "cell_type": "code",
   "execution_count": null,
   "id": "81aaaa7b-7431-4059-8d32-3052d09d4318",
   "metadata": {},
   "outputs": [],
   "source": [
    "# Save the figure top_adj\n",
    "plt.savefig('top_adj.png', bbox_inches='tight')"
   ]
  },
  {
   "cell_type": "markdown",
   "id": "053b9466-096a-4d7e-959e-e2f084a536bf",
   "metadata": {},
   "source": [
    "## Frequency each country is mentioned"
   ]
  },
  {
   "cell_type": "code",
   "execution_count": null,
   "id": "fe2df738-c8be-4f27-bdca-bf98c6beed01",
   "metadata": {
    "tags": []
   },
   "outputs": [],
   "source": [
    "listToStr = ' '.join([str(elem) for elem in filtered])\n",
    " \n",
    "print(listToStr)"
   ]
  },
  {
   "cell_type": "code",
   "execution_count": null,
   "id": "993d8dce-d9bd-480e-a744-329a829212e9",
   "metadata": {
    "tags": []
   },
   "outputs": [],
   "source": [
    "# Create a count for the main characters\n",
    "\n",
    "all_counts = Counter(re.sub(r'\\W+', ' ', listToStr).split())"
   ]
  },
  {
   "cell_type": "code",
   "execution_count": null,
   "id": "53f5a26e-902e-4afb-bed7-8fcc31498c06",
   "metadata": {
    "scrolled": true,
    "tags": []
   },
   "outputs": [],
   "source": [
    "all_counts"
   ]
  },
  {
   "cell_type": "code",
   "execution_count": null,
   "id": "dbb8dbd7-33d4-4c07-8a1c-a16283268d8d",
   "metadata": {
    "tags": []
   },
   "outputs": [],
   "source": [
    "countries = pd.read_csv(\"countries_list_20th_century_1.5.csv\", index_col = 0)"
   ]
  },
  {
   "cell_type": "code",
   "execution_count": null,
   "id": "80098e3e-2521-4321-b5b1-cc6edf61067a",
   "metadata": {
    "tags": []
   },
   "outputs": [],
   "source": [
    "countries.head()"
   ]
  },
  {
   "cell_type": "code",
   "execution_count": null,
   "id": "d9d00c62-30c7-47b2-a3e9-df1524271a4c",
   "metadata": {
    "tags": []
   },
   "outputs": [],
   "source": [
    "countries['country_name'] = countries['country_name'].str.strip()"
   ]
  },
  {
   "cell_type": "code",
   "execution_count": null,
   "id": "3de368c9-63c5-428e-a22a-f213285b810f",
   "metadata": {
    "tags": []
   },
   "outputs": [],
   "source": [
    "countries.head()"
   ]
  },
  {
   "cell_type": "code",
   "execution_count": null,
   "id": "b4cc73f8-980f-4779-a07d-ed9ea1c2d177",
   "metadata": {},
   "outputs": [],
   "source": [
    "# Replace names with aliases\n",
    "\n",
    "countries['country_name'] = countries['country_name'].replace('United States','USA')\n",
    "countries['country_name'] = countries['country_name'].replace('United States of America','USA')\n",
    "countries['country_name'] = countries['country_name'].replace('America','USA')\n",
    "countries['country_name'] = countries['country_name'].replace('U.S.','USA')\n",
    "countries['country_name'] = countries['country_name'].replace('United Kingdom','UK')\n",
    "countries['country_name'] = countries['country_name'].replace('Great Britain','UK')\n",
    "countries['country_name'] = countries['country_name'].replace('Britain','UK')"
   ]
  },
  {
   "cell_type": "code",
   "execution_count": null,
   "id": "90969a7d-f6f4-4fd4-8d32-de71bfc380fe",
   "metadata": {},
   "outputs": [],
   "source": [
    "countries['country_alias'] = countries['country_name'].apply(lambda x: x.rsplit(' ', 1)[-1])"
   ]
  },
  {
   "cell_type": "code",
   "execution_count": null,
   "id": "c6a6b7fa-d435-4478-a096-a4d79ed5b7dd",
   "metadata": {},
   "outputs": [],
   "source": [
    "countries_list = countries['country_alias'].to_list()"
   ]
  },
  {
   "cell_type": "code",
   "execution_count": null,
   "id": "778ea310-d8ac-4541-83f8-9c35a0c28f91",
   "metadata": {},
   "outputs": [],
   "source": [
    "dict_of_counts = {d : all_counts[d] for d in countries_list}"
   ]
  },
  {
   "cell_type": "code",
   "execution_count": null,
   "id": "25cbb74c-3810-4c0b-ba0a-b0ade7263a07",
   "metadata": {},
   "outputs": [],
   "source": [
    "dict_of_counts"
   ]
  },
  {
   "cell_type": "code",
   "execution_count": null,
   "id": "b3ec4439-994b-4dc0-9187-35aecbf110a3",
   "metadata": {
    "tags": []
   },
   "outputs": [],
   "source": [
    "# Search for the names from the list in the dictionary\n",
    "\n",
    "dct = {v:[k] for v,k in dict_of_counts.items()}  \n",
    "df = pd.DataFrame(dct)"
   ]
  },
  {
   "cell_type": "code",
   "execution_count": null,
   "id": "6fcac101-7a06-41f8-8028-bcb0332e6afe",
   "metadata": {
    "tags": []
   },
   "outputs": [],
   "source": [
    "df"
   ]
  },
  {
   "cell_type": "code",
   "execution_count": null,
   "id": "19ad0125-c7f5-4cec-b143-5046e589ceed",
   "metadata": {
    "tags": []
   },
   "outputs": [],
   "source": [
    "df = df.transpose().reset_index()"
   ]
  },
  {
   "cell_type": "code",
   "execution_count": null,
   "id": "f354e10e-bf53-489a-8efb-af9ac5f62448",
   "metadata": {
    "tags": []
   },
   "outputs": [],
   "source": [
    "df.dtypes"
   ]
  },
  {
   "cell_type": "code",
   "execution_count": null,
   "id": "ea72ac80-f6f8-47d9-983c-bb510ef7352f",
   "metadata": {
    "tags": []
   },
   "outputs": [],
   "source": [
    "df"
   ]
  },
  {
   "cell_type": "code",
   "execution_count": null,
   "id": "948cf527-d991-4c93-a709-e818929757be",
   "metadata": {
    "tags": []
   },
   "outputs": [],
   "source": [
    "df.rename(columns = {\"index\":\"country_name\", 0:\"Times mentioned\"}, inplace = True)"
   ]
  },
  {
   "cell_type": "code",
   "execution_count": null,
   "id": "7d3b0837-d495-4a94-9c54-d76f60601d66",
   "metadata": {
    "tags": []
   },
   "outputs": [],
   "source": [
    "df"
   ]
  },
  {
   "cell_type": "code",
   "execution_count": null,
   "id": "11f5da22-c754-4a70-85a1-805fe5d3d4d0",
   "metadata": {
    "scrolled": true,
    "tags": []
   },
   "outputs": [],
   "source": [
    "df.shape"
   ]
  },
  {
   "cell_type": "code",
   "execution_count": null,
   "id": "bca016cd-9889-4bc8-8737-e52ef4b63899",
   "metadata": {
    "tags": []
   },
   "outputs": [],
   "source": [
    "# Set the figure size\n",
    "plt.figure(figsize=(100, 300))\n",
    "\n",
    "# Create a dark palette with 27 colors\n",
    "palette = sns.dark_palette(\"#79C\", 27)\n",
    "\n",
    "# Plotting\n",
    "with sns.color_palette(palette):\n",
    "    ax = sns.barplot(\n",
    "        x=\"Times mentioned\", \n",
    "        y=\"country_name\",\n",
    "        saturation=0.9, \n",
    "        data=df.sort_values(\"Times mentioned\", ascending=False)\n",
    "    )\n",
    "    ax.set_title(\"20th Century - most frequently mentioned countries\", fontsize=100)\n",
    "    ax.set_xlabel(\"Times mentioned\", fontsize=50)\n",
    "    ax.set_ylabel(\"Country Name\", fontsize=50)\n",
    "\n",
    "    # Adjust tick label size\n",
    "    ax.tick_params(axis='x', labelsize=50)\n",
    "    ax.tick_params(axis='y', labelsize=50)"
   ]
  },
  {
   "cell_type": "markdown",
   "id": "01bb3cfc-8c7b-4335-8d1d-c40d5c9dfe23",
   "metadata": {},
   "source": [
    "### Thoughts on the Bar Chart\n",
    "\n",
    "There is still further cleaning to be done. There are some unusable entries in the countries list, such as \"States\", \"Islands\" and \"North\", which could refer to any number of countries or perhaps aren't referring countries at all. I also noticed that countries with two words in the name do not appear as much as I would expect from this graph: countries such as United States and United Kingdom. "
   ]
  },
  {
   "cell_type": "markdown",
   "id": "7a92819f-0c4f-49b5-9a86-58077b2cafa0",
   "metadata": {},
   "source": [
    "## Save Final Bar Chart"
   ]
  },
  {
   "cell_type": "code",
   "execution_count": null,
   "id": "6b996e1e-5c96-46f8-90d0-36756a779614",
   "metadata": {},
   "outputs": [],
   "source": [
    "# country mentions\n",
    "plt.savefig('20th_century_countries_mentions.png', bbox_inches='tight')"
   ]
  },
  {
   "cell_type": "code",
   "execution_count": null,
   "id": "9742f8a5-dbce-4213-b8ef-dbe7bf48968c",
   "metadata": {},
   "outputs": [],
   "source": []
  },
  {
   "cell_type": "code",
   "execution_count": null,
   "id": "f1b017c7-9c5f-4761-9bf3-ca3edba468ff",
   "metadata": {},
   "outputs": [],
   "source": []
  }
 ],
 "metadata": {
  "kernelspec": {
   "display_name": "Python [conda env:20th_century]",
   "language": "python",
   "name": "conda-env-20th_century-py"
  },
  "language_info": {
   "codemirror_mode": {
    "name": "ipython",
    "version": 3
   },
   "file_extension": ".py",
   "mimetype": "text/x-python",
   "name": "python",
   "nbconvert_exporter": "python",
   "pygments_lexer": "ipython3",
   "version": "3.12.4"
  }
 },
 "nbformat": 4,
 "nbformat_minor": 5
}
