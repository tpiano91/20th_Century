{
 "cells": [
  {
   "cell_type": "markdown",
   "id": "320b8195-41f4-41fb-aeb2-ee992d93a859",
   "metadata": {},
   "source": [
    "# This is a simple push exercise"
   ]
  },
  {
   "cell_type": "code",
   "execution_count": null,
   "id": "a829d9ab-5836-4911-b4c2-e8d54b575060",
   "metadata": {},
   "outputs": [],
   "source": []
  }
 ],
 "metadata": {
  "kernelspec": {
   "display_name": "Python [conda env:base] *",
   "language": "python",
   "name": "conda-base-py"
  },
  "language_info": {
   "codemirror_mode": {
    "name": "ipython",
    "version": 3
   },
   "file_extension": ".py",
   "mimetype": "text/x-python",
   "name": "python",
   "nbconvert_exporter": "python",
   "pygments_lexer": "ipython3",
   "version": "3.11.5"
  }
 },
 "nbformat": 4,
 "nbformat_minor": 5
}
